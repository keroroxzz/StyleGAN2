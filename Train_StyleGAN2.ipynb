{
 "cells": [
  {
   "cell_type": "markdown",
   "metadata": {},
   "source": [
    "# StyleGAN2 Implementation\n",
    "\n",
    "This is my personal study for image generation using StyleGAN2.\n",
    "\n",
    "It is also my homework for Machine Learning Course. \n",
    "\n",
    "Study purpose Only."
   ]
  },
  {
   "cell_type": "code",
   "execution_count": null,
   "metadata": {},
   "outputs": [],
   "source": [
    "import torchvision\n",
    "import matplotlib.pyplot as plt\n",
    "\n",
    "from Dataloader.Dataloader import makeDataset\n",
    "from StyleGAN2.StyleGAN2 import TrainerGAN"
   ]
  },
  {
   "cell_type": "markdown",
   "metadata": {
    "id": "BPMZTwAiQSnx"
   },
   "source": [
    "## Show the image\n",
    "Show some sample in the dataset"
   ]
  },
  {
   "cell_type": "code",
   "execution_count": null,
   "metadata": {
    "colab": {
     "base_uri": "https://localhost:8080/",
     "height": 211
    },
    "id": "rX5-Q71TOyy4",
    "outputId": "5ccce544-982c-4635-c88a-3a0290985669"
   },
   "outputs": [],
   "source": [
    "dataset = makeDataset('/home/rtu/projects/MLplayground/StyleGAN2/dataset/')\n",
    "\n",
    "images = [dataset[i] for i in range(4)]\n",
    "grid_img = torchvision.utils.make_grid(images, nrow=4)\n",
    "plt.figure(figsize=(10,10))\n",
    "plt.imshow(grid_img.permute(1, 2, 0).cpu())\n",
    "plt.show()"
   ]
  },
  {
   "cell_type": "markdown",
   "metadata": {
    "id": "-uf8BdVoYNJ8"
   },
   "source": [
    "## Training"
   ]
  },
  {
   "cell_type": "code",
   "execution_count": null,
   "metadata": {
    "id": "Jg4YdRVPYJSj"
   },
   "outputs": [],
   "source": [
    "trainer = TrainerGAN({\n",
    "    \"model_type\": \"GAN\",\n",
    "    \"batch_size\": 64,\n",
    "    \"lr\": 0.0006,\n",
    "    \"betas\":(0.5,0.9),\n",
    "    \"n_epoch\": 1000,\n",
    "    \"n_critic\": 3,\n",
    "    \"gamma\": 0.999999,\n",
    "    \"fp16\": False,\n",
    "    \n",
    "    \"num_workers\": 0,\n",
    "    \"pin_memory\": True,\n",
    "    \n",
    "    \"latent_dim\": 512,\n",
    "    \"image_size\": 64,\n",
    "    \n",
    "    \"style_mapping_hidden\": 512,\n",
    "    \"style_mapping_layers\": 4,\n",
    "    \"style_mapping_lr_mul\": 0.1,\n",
    "    \n",
    "    \"Gen_attention_layers\":[],\n",
    "    \"Gen_capacity\":6,\n",
    "    \"Gen_filter_max\":512,\n",
    "    \"Gen_nhead\":4,\n",
    "    \"Gen_att_ffdim\":512,\n",
    "    \n",
    "    \"Dsc_attention_layers\":[],\n",
    "    \"Dsc_capacity\":6,\n",
    "    \"Dsc_filter_max\":512,\n",
    "    \"Dsc_nhead\":2,\n",
    "    \"Dsc_att_ffdim\":64,\n",
    "    \"gp_amp\": 10.0,\n",
    "    \"std_amp\": 1.0\n",
    "})\n",
    "\n",
    "trainer.prepare_environment(dataset)"
   ]
  },
  {
   "cell_type": "markdown",
   "metadata": {
    "id": "ntn56Ffvip-x"
   },
   "source": [
    "## Start to train"
   ]
  },
  {
   "cell_type": "code",
   "execution_count": 4,
   "metadata": {
    "colab": {
     "base_uri": "https://localhost:8080/",
     "height": 648
    },
    "id": "NTHoXrLUYJUn",
    "outputId": "ef81adc1-56f4-4181-e0d1-c1490d7e9266",
    "scrolled": true
   },
   "outputs": [
    {
     "name": "stderr",
     "output_type": "stream",
     "text": [
      "Epoch 1:  63%|██████▎   | 702/1110 [02:45<01:36,  4.22it/s, loss_D=2.12, loss_G=1.52, lr=[0.0005995789475961484]] "
     ]
    }
   ],
   "source": [
    "trainer.train()"
   ]
  },
  {
   "cell_type": "markdown",
   "metadata": {
    "id": "4g3_RUzYix0W"
   },
   "source": [
    "## Inference"
   ]
  },
  {
   "cell_type": "code",
   "execution_count": null,
   "metadata": {
    "id": "72EEf52FrOCp"
   },
   "outputs": [],
   "source": [
    "trainer.inference()"
   ]
  }
 ],
 "metadata": {
  "accelerator": "GPU",
  "colab": {
   "name": "ML_HW6.ipynb",
   "provenance": []
  },
  "kernelspec": {
   "display_name": "llama",
   "language": "python",
   "name": "python3"
  },
  "language_info": {
   "codemirror_mode": {
    "name": "ipython",
    "version": 3
   },
   "file_extension": ".py",
   "mimetype": "text/x-python",
   "name": "python",
   "nbconvert_exporter": "python",
   "pygments_lexer": "ipython3",
   "version": "3.8.0"
  }
 },
 "nbformat": 4,
 "nbformat_minor": 4
}
