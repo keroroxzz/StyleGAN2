{
 "cells": [
  {
   "cell_type": "markdown",
   "metadata": {},
   "source": [
    "# StyleGAN2 Implementation\n",
    "\n",
    "This is my personal study for image generation using StyleGAN2.\n",
    "\n",
    "It is also my homework for Machine Learning Course. \n",
    "\n",
    "Study purpose Only."
   ]
  },
  {
   "cell_type": "code",
   "execution_count": null,
   "metadata": {},
   "outputs": [],
   "source": [
    "import torchvision\n",
    "import matplotlib.pyplot as plt\n",
    "\n",
    "from Dataloader.Dataloader import makeDatasetWithTransforms\n",
    "from StyleGAN2.Trainer import TrainerGAN"
   ]
  },
  {
   "cell_type": "markdown",
   "metadata": {
    "id": "BPMZTwAiQSnx"
   },
   "source": [
    "## Show the image\n",
    "Show some sample in the dataset"
   ]
  },
  {
   "cell_type": "code",
   "execution_count": null,
   "metadata": {
    "colab": {
     "base_uri": "https://localhost:8080/",
     "height": 211
    },
    "id": "rX5-Q71TOyy4",
    "outputId": "5ccce544-982c-4635-c88a-3a0290985669"
   },
   "outputs": [],
   "source": [
    "dataset = makeDatasetWithTransforms('/home/rtu/projects/MLplayground/StyleGAN2/dataset/')\n",
    "\n",
    "images = [dataset[i] for i in range(4)]\n",
    "grid_img = torchvision.utils.make_grid(images, nrow=4)\n",
    "plt.figure(figsize=(10,10))\n",
    "plt.imshow(grid_img.permute(1, 2, 0).cpu())\n",
    "plt.show()"
   ]
  },
  {
   "cell_type": "markdown",
   "metadata": {
    "id": "-uf8BdVoYNJ8"
   },
   "source": [
    "## Training"
   ]
  },
  {
   "cell_type": "code",
   "execution_count": null,
   "metadata": {
    "id": "Jg4YdRVPYJSj"
   },
   "outputs": [],
   "source": [
    "trainer = TrainerGAN({\n",
    "    \"device\": \"cuda\",\n",
    "    \"model_type\": \"GAN\",\n",
    "    \n",
    "    \"batch_size\": 32,\n",
    "    \"totalEpoch\": 1000,\n",
    "    \"generatorUpdateFreq\": 3,\n",
    "    \n",
    "    \"fp16\": True,\n",
    "\n",
    "    \"dataset\": dataset,\n",
    "    \"num_workers\": 3,\n",
    "    \"pin_memory\": True,\n",
    "    \n",
    "    \"lossConfig\": {\n",
    "        \"GradientPenalty_weight\": 10.0,\n",
    "        \"discriminatorDeviationLoss_weight\": 1.0,\n",
    "        \"pathLengthRegularization_weight\": 0.5,\n",
    "        \"pathLengthRegularization_decay\": 0.99\n",
    "    },\n",
    "    \n",
    "    \"optimizerConfig_discriminator\": {\n",
    "        \"lr\": 0.00025,\n",
    "        \"betas\":(0.5,0.9)\n",
    "    },\n",
    "    \"optimizerConfig_generator\": {\n",
    "        \"lr\": 0.00025,\n",
    "        \"betas\":(0.5,0.9)\n",
    "    },\n",
    "    \"schedulerConfig\": {\n",
    "        \"discriminator\":{\"gamma\": 0.999999},\n",
    "        \"generator\":{\"gamma\": 0.999999},\n",
    "    },\n",
    "    \n",
    "    \"generatorConfig\":{\n",
    "        \"image_size\": 64,\n",
    "        \"styleDim\": 512,\n",
    "        \"attention_layers\":[],\n",
    "        \"capacity\":6,\n",
    "        \"filter_max\":512,\n",
    "        \"nhead\":4,\n",
    "        \"att_ffdim\":512,\n",
    "\n",
    "        \"styleMapperConfig\":{\n",
    "            \"latentDim\": 512,\n",
    "            \"hidden\": 512,\n",
    "            \"depth\": 4,\n",
    "            \"lr_mul\": 0.1\n",
    "        },\n",
    "    },\n",
    "    \n",
    "    \"discriminatorConfig\":{\n",
    "        \"image_size\": 64,\n",
    "        \"attention_layers\":[],\n",
    "        \"capacity\":6,\n",
    "        \"filter_max\":512,\n",
    "        \"nhead\":2,\n",
    "        \"att_ffdim\":64\n",
    "    }\n",
    "})\n",
    "\n",
    "trainer.prepareFolders()"
   ]
  },
  {
   "cell_type": "markdown",
   "metadata": {
    "id": "ntn56Ffvip-x"
   },
   "source": [
    "## Start to train"
   ]
  },
  {
   "cell_type": "code",
   "execution_count": 4,
   "metadata": {
    "colab": {
     "base_uri": "https://localhost:8080/",
     "height": 648
    },
    "id": "NTHoXrLUYJUn",
    "outputId": "ef81adc1-56f4-4181-e0d1-c1490d7e9266",
    "scrolled": true
   },
   "outputs": [
    {
     "name": "stderr",
     "output_type": "stream",
     "text": [
      "Epoch 4:  95%|█████████▌| 2109/2219 [05:16<00:17,  6.33it/s, deviationLoss=1.8, discriminator loss=-1.12, generator loss=9.61, gradientPenalty=0.319, lr=[0.0002492705658575417], pathLengthEMA=24.9]"
     ]
    }
   ],
   "source": [
    "trainer.train()"
   ]
  },
  {
   "cell_type": "markdown",
   "metadata": {
    "id": "4g3_RUzYix0W"
   },
   "source": [
    "## Inference"
   ]
  },
  {
   "cell_type": "code",
   "execution_count": null,
   "metadata": {
    "id": "72EEf52FrOCp"
   },
   "outputs": [],
   "source": [
    "trainer.styleGAN2.inference()"
   ]
  },
  {
   "cell_type": "code",
   "execution_count": null,
   "metadata": {},
   "outputs": [],
   "source": []
  }
 ],
 "metadata": {
  "accelerator": "GPU",
  "colab": {
   "name": "ML_HW6.ipynb",
   "provenance": []
  },
  "kernelspec": {
   "display_name": "llama",
   "language": "python",
   "name": "python3"
  },
  "language_info": {
   "codemirror_mode": {
    "name": "ipython",
    "version": 3
   },
   "file_extension": ".py",
   "mimetype": "text/x-python",
   "name": "python",
   "nbconvert_exporter": "python",
   "pygments_lexer": "ipython3",
   "version": "3.8.0"
  }
 },
 "nbformat": 4,
 "nbformat_minor": 4
}
